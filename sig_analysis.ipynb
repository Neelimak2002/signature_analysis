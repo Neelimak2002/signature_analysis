{
 "cells": [
  {
   "cell_type": "code",
   "execution_count": 9,
   "id": "f3ea1c5d-d296-4063-b9f8-47d867f22977",
   "metadata": {
    "tags": []
   },
   "outputs": [
    {
     "name": "stdout",
     "output_type": "stream",
     "text": [
      "Model trained on augmented data\n"
     ]
    }
   ],
   "source": [
    "import cv2\n",
    "import numpy as np\n",
    "from skimage.feature import hog, local_binary_pattern\n",
    "from skimage.measure import moments\n",
    "from scipy.stats import describe\n",
    "\n",
    "# Preprocessing\n",
    "def preprocess_image(image_path):\n",
    "    image = cv2.imread(image_path, cv2.IMREAD_GRAYSCALE)\n",
    "    image = cv2.resize(image, (128, 128))\n",
    "    _, binary_image = cv2.threshold(image, 128, 255, cv2.THRESH_BINARY | cv2.THRESH_OTSU)\n",
    "    return binary_image\n",
    "\n",
    "# Feature Extraction\n",
    "def extract_features(image):\n",
    "    # HOG features\n",
    "    hog_features = hog(image, pixels_per_cell=(16, 16), cells_per_block=(2, 2), visualize=False)\n",
    "\n",
    "    # Local Binary Pattern (LBP) features\n",
    "    lbp = local_binary_pattern(image, 8, 1, method='uniform')\n",
    "    lbp_hist, _ = np.histogram(lbp.ravel(), bins=np.arange(0, 10), density=True)\n",
    "\n",
    "    # Image moments\n",
    "    m = moments(image)\n",
    "    hu_moments = cv2.HuMoments(m).flatten()\n",
    "\n",
    "    # Additional features\n",
    "    aspect_ratio = image.shape[0] / image.shape[1]\n",
    "    white_pixel_ratio = np.sum(image == 255) / image.size\n",
    "\n",
    "    features = np.concatenate([hog_features, lbp_hist, hu_moments, [aspect_ratio, white_pixel_ratio]])\n",
    "    return features\n",
    "\n",
    "# Data Augmentation\n",
    "def augment_image(image):\n",
    "    augmented_images = []\n",
    "    rows, cols = image.shape\n",
    "\n",
    "    for angle in range(-10, 11, 5):  # Rotate the image slightly\n",
    "        M = cv2.getRotationMatrix2D((cols/2, rows/2), angle, 1)\n",
    "        rotated = cv2.warpAffine(image, M, (cols, rows))\n",
    "        augmented_images.append(rotated)\n",
    "\n",
    "    return augmented_images\n",
    "\n",
    "# Model Training\n",
    "from sklearn.svm import OneClassSVM\n",
    "\n",
    "original_image_path ='path/to/original_signature.jpg'\n",
    "binary_image = preprocess_image(original_image_path)\n",
    "augmented_images = augment_image(binary_image)\n",
    "X = [extract_features(img) for img in augmented_images]\n",
    "\n",
    "clf = OneClassSVM(gamma='auto').fit(X)\n",
    "print(\"Model trained on augmented data\")\n",
    "\n",
    "# Signature Verification\n",
    "def verify_signature(test_image_path, model):\n",
    "    test_image = preprocess_image(test_image_path)\n",
    "    test_features = extract_features(test_image)\n",
    "    prediction = model.predict([test_features])\n",
    "    \n",
    "    # Print descriptive statistical features of the test image\n",
    "    test_stats = describe(test_image.ravel())\n",
    "    print(\"\\nDescriptive Statistical Features of Test Image:\")\n",
    "    print(\"Mean:\", test_stats.mean)\n",
    "    print(\"Variance:\", test_stats.variance)\n",
    "    print(\"Skewness:\", test_stats.skewness)\n",
    "    print(\"Kurtosis:\", test_stats.kurtosis)\n",
    "    \n",
    "    # Print descriptive statistical features of the original image\n",
    "    original_image = preprocess_image(original_image_path)\n",
    "    original_stats = describe(original_image.ravel())\n",
    "    print(\"\\nDescriptive Statistical Features of Original Image:\")\n",
    "    print(\"Mean:\", original_stats.mean)\n",
    "    print(\"Variance:\", original_stats.variance)\n",
    "    print(\"Skewness:\", original_stats.skewness)\n",
    "    print(\"Kurtosis:\", original_stats.kurtosis)\n",
    "    \n",
    "    return \"Genuine\" if prediction == 1 else \"Forged\""
   ]
  },
  {
   "cell_type": "code",
   "execution_count": 11,
   "id": "079ea877-8a6a-4913-8d75-6700e8dc7a01",
   "metadata": {
    "tags": []
   },
   "outputs": [
    {
     "name": "stdout",
     "output_type": "stream",
     "text": [
      "\n",
      "Descriptive Statistical Features of Test Image:\n",
      "Mean: 248.22967529296875\n",
      "Variance: 1680.6980853245777\n",
      "Skewness: -5.889961141922817\n",
      "Kurtosis: 32.69164225336075\n",
      "\n",
      "Descriptive Statistical Features of Original Image:\n",
      "Mean: 246.57989501953125\n",
      "Variance: 2076.355332809585\n",
      "Skewness: -5.226739482098385\n",
      "Kurtosis: 25.318805613726088\n",
      "The signature is: Forged\n"
     ]
    }
   ],
   "source": [
    "test_image_path ='path/to/test_signature.jpg'\n",
    "result = verify_signature(test_image_path, clf)\n",
    "print(\"The signature is:\", result)"
   ]
  },
  {
   "cell_type": "code",
   "execution_count": null,
   "id": "d15d8175-f154-4bda-8dc8-5f76cb3e23c4",
   "metadata": {},
   "outputs": [],
   "source": []
  }
 ],
 "metadata": {
  "kernelspec": {
   "display_name": "Python 3 (ipykernel)",
   "language": "python",
   "name": "python3"
  },
  "language_info": {
   "codemirror_mode": {
    "name": "ipython",
    "version": 3
   },
   "file_extension": ".py",
   "mimetype": "text/x-python",
   "name": "python",
   "nbconvert_exporter": "python",
   "pygments_lexer": "ipython3",
   "version": "3.11.7"
  }
 },
 "nbformat": 4,
 "nbformat_minor": 5
}
